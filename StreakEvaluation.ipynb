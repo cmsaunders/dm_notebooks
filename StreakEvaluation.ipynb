{
 "cells": [
  {
   "cell_type": "code",
   "execution_count": 96,
   "id": "d312f43a-b69d-4bc9-82a7-00e42990bb1a",
   "metadata": {
    "execution": {
     "iopub.execute_input": "2024-02-15T21:12:12.392796Z",
     "iopub.status.busy": "2024-02-15T21:12:12.392502Z",
     "iopub.status.idle": "2024-02-15T21:12:12.395466Z",
     "shell.execute_reply": "2024-02-15T21:12:12.395071Z",
     "shell.execute_reply.started": "2024-02-15T21:12:12.392776Z"
    }
   },
   "outputs": [],
   "source": [
    "from ipywidgets import interact,interactive\n",
    "import ipywidgets\n",
    "from IPython.display import Image, display\n",
    "#from PIL import Image\n",
    "import matplotlib.pyplot as plt\n",
    "import pickle"
   ]
  },
  {
   "cell_type": "code",
   "execution_count": 131,
   "id": "86b0db4d-0dce-4400-bbe5-6a38dc7d8b6f",
   "metadata": {
    "execution": {
     "iopub.execute_input": "2024-02-15T21:56:49.535578Z",
     "iopub.status.busy": "2024-02-15T21:56:49.535061Z",
     "iopub.status.idle": "2024-02-15T21:56:49.538353Z",
     "shell.execute_reply": "2024-02-15T21:56:49.537965Z",
     "shell.execute_reply.started": "2024-02-15T21:56:49.535562Z"
    }
   },
   "outputs": [],
   "source": [
    "def isStreak(realStreak, ghost, quality):\n",
    "    return realStreak, ghost, quality\n",
    "def goodMask(quality):\n",
    "    return quality\n",
    "def detList(foundStreaks, missedStreaks):\n",
    "    \"\"\"if len(foundStreaks) > 0:\n",
    "        found_dets = [int(d) for d in foundStreaks.split(',')]\n",
    "    else: \n",
    "        found_dets = []\n",
    "    if len(missedStreaks) > 0:\n",
    "        missed_dets = [int(d) for d in missedStreaks.split(',')]\n",
    "    else: \n",
    "        missed_dets = []\n",
    "    return found_dets, missed_dets\"\"\"\n",
    "    return foundStreaks, missedStreaks\n",
    "def missing(missedStreaks):\n",
    "    return missedStreaks"
   ]
  },
  {
   "cell_type": "markdown",
   "id": "06916c58-ddaa-4dd5-888c-a159e373a9d5",
   "metadata": {},
   "source": [
    "## Load dictionary of detectors where streaks were detected:"
   ]
  },
  {
   "cell_type": "code",
   "execution_count": 97,
   "id": "769cafe2-7141-41d0-bef1-9ef5c9757a63",
   "metadata": {
    "execution": {
     "iopub.execute_input": "2024-02-15T21:12:15.100281Z",
     "iopub.status.busy": "2024-02-15T21:12:15.099970Z",
     "iopub.status.idle": "2024-02-15T21:12:15.105001Z",
     "shell.execute_reply": "2024-02-15T21:12:15.103981Z",
     "shell.execute_reply.started": "2024-02-15T21:12:15.100263Z"
    }
   },
   "outputs": [],
   "source": [
    "with open('/home/c/csaunder/stack_projects/streakMasking/visitStreaks.pkl', 'rb') as f:\n",
    "    visitDict = pickle.load(f)"
   ]
  },
  {
   "cell_type": "markdown",
   "id": "daef110f-c48f-4a6a-b574-d2bcb17e5ca3",
   "metadata": {},
   "source": [
    "## Evaluate the streak masking:\n",
    "Click on \"Detectors with correctly found streaks\" below to get a list of detectors with streaks detected. Check the ones where a streak was correctly found. At the end there is a box to input detectors where streaks were missed."
   ]
  },
  {
   "cell_type": "code",
   "execution_count": 173,
   "id": "90ee7f58-2dc1-4bf4-b65c-5de5ac6275fc",
   "metadata": {
    "execution": {
     "iopub.execute_input": "2024-02-15T22:22:38.909808Z",
     "iopub.status.busy": "2024-02-15T22:22:38.909451Z",
     "iopub.status.idle": "2024-02-15T22:22:39.244618Z",
     "shell.execute_reply": "2024-02-15T22:22:39.244261Z",
     "shell.execute_reply.started": "2024-02-15T22:22:38.909790Z"
    }
   },
   "outputs": [
    {
     "name": "stdout",
     "output_type": "stream",
     "text": [
      "Visit 362\n"
     ]
    },
    {
     "data": {
      "application/vnd.jupyter.widget-view+json": {
       "model_id": "466d5920104f4f86b8b48ab96fb56c81",
       "version_major": 2,
       "version_minor": 0
      },
      "text/plain": [
       "HBox(children=(Image(value=b'\\x89PNG\\r\\n\\x1a\\n\\x00\\x00\\x00\\rIHDR\\x00\\x00\\x03\\xe8\\x00\\x00\\x03\\xe8\\x08\\x06\\x00\\x…"
      ]
     },
     "metadata": {},
     "output_type": "display_data"
    },
    {
     "name": "stdout",
     "output_type": "stream",
     "text": [
      "Visit 19680\n"
     ]
    },
    {
     "data": {
      "application/vnd.jupyter.widget-view+json": {
       "model_id": "c6e81f5d5a9d44a697b54203195b2e0c",
       "version_major": 2,
       "version_minor": 0
      },
      "text/plain": [
       "HBox(children=(Image(value=b'\\x89PNG\\r\\n\\x1a\\n\\x00\\x00\\x00\\rIHDR\\x00\\x00\\x03\\xe8\\x00\\x00\\x03\\xe8\\x08\\x06\\x00\\x…"
      ]
     },
     "metadata": {},
     "output_type": "display_data"
    },
    {
     "name": "stdout",
     "output_type": "stream",
     "text": [
      "Visit 19694\n"
     ]
    },
    {
     "data": {
      "application/vnd.jupyter.widget-view+json": {
       "model_id": "64e7c033c5b742ff9f0ec23d8cf4efe0",
       "version_major": 2,
       "version_minor": 0
      },
      "text/plain": [
       "HBox(children=(Image(value=b'\\x89PNG\\r\\n\\x1a\\n\\x00\\x00\\x00\\rIHDR\\x00\\x00\\x03\\xe8\\x00\\x00\\x03\\xe8\\x08\\x06\\x00\\x…"
      ]
     },
     "metadata": {},
     "output_type": "display_data"
    },
    {
     "name": "stdout",
     "output_type": "stream",
     "text": [
      "Visit 17906\n"
     ]
    },
    {
     "data": {
      "application/vnd.jupyter.widget-view+json": {
       "model_id": "98ffc6989e0b4a1c8059e7a2f61836d9",
       "version_major": 2,
       "version_minor": 0
      },
      "text/plain": [
       "HBox(children=(Image(value=b'\\x89PNG\\r\\n\\x1a\\n\\x00\\x00\\x00\\rIHDR\\x00\\x00\\x03\\xe8\\x00\\x00\\x03\\xe8\\x08\\x06\\x00\\x…"
      ]
     },
     "metadata": {},
     "output_type": "display_data"
    },
    {
     "name": "stdout",
     "output_type": "stream",
     "text": [
      "Visit 1228\n"
     ]
    },
    {
     "data": {
      "application/vnd.jupyter.widget-view+json": {
       "model_id": "8ab3118be80248869474dd3bb93c94a6",
       "version_major": 2,
       "version_minor": 0
      },
      "text/plain": [
       "HBox(children=(Image(value=b'\\x89PNG\\r\\n\\x1a\\n\\x00\\x00\\x00\\rIHDR\\x00\\x00\\x03\\xe8\\x00\\x00\\x03\\xe8\\x08\\x06\\x00\\x…"
      ]
     },
     "metadata": {},
     "output_type": "display_data"
    },
    {
     "name": "stdout",
     "output_type": "stream",
     "text": [
      "Visit 1218\n"
     ]
    },
    {
     "data": {
      "application/vnd.jupyter.widget-view+json": {
       "model_id": "71323d348e174aceb13ef83ab1fd6f40",
       "version_major": 2,
       "version_minor": 0
      },
      "text/plain": [
       "HBox(children=(Image(value=b'\\x89PNG\\r\\n\\x1a\\n\\x00\\x00\\x00\\rIHDR\\x00\\x00\\x03\\xe8\\x00\\x00\\x03\\xe8\\x08\\x06\\x00\\x…"
      ]
     },
     "metadata": {},
     "output_type": "display_data"
    },
    {
     "name": "stdout",
     "output_type": "stream",
     "text": [
      "Visit 19708\n"
     ]
    },
    {
     "data": {
      "application/vnd.jupyter.widget-view+json": {
       "model_id": "03225a6447364265b5000d8598d437fe",
       "version_major": 2,
       "version_minor": 0
      },
      "text/plain": [
       "HBox(children=(Image(value=b'\\x89PNG\\r\\n\\x1a\\n\\x00\\x00\\x00\\rIHDR\\x00\\x00\\x03\\xe8\\x00\\x00\\x03\\xe8\\x08\\x06\\x00\\x…"
      ]
     },
     "metadata": {},
     "output_type": "display_data"
    },
    {
     "name": "stdout",
     "output_type": "stream",
     "text": [
      "Visit 17904\n"
     ]
    },
    {
     "data": {
      "application/vnd.jupyter.widget-view+json": {
       "model_id": "8c428f46ed05499dbbb7f97a1fd5294d",
       "version_major": 2,
       "version_minor": 0
      },
      "text/plain": [
       "HBox(children=(Image(value=b'\\x89PNG\\r\\n\\x1a\\n\\x00\\x00\\x00\\rIHDR\\x00\\x00\\x03\\xe8\\x00\\x00\\x03\\xe8\\x08\\x06\\x00\\x…"
      ]
     },
     "metadata": {},
     "output_type": "display_data"
    },
    {
     "name": "stdout",
     "output_type": "stream",
     "text": [
      "Visit 23716\n"
     ]
    },
    {
     "data": {
      "application/vnd.jupyter.widget-view+json": {
       "model_id": "0fffb9515f6743b6bf7784822040da99",
       "version_major": 2,
       "version_minor": 0
      },
      "text/plain": [
       "HBox(children=(Image(value=b'\\x89PNG\\r\\n\\x1a\\n\\x00\\x00\\x00\\rIHDR\\x00\\x00\\x03\\xe8\\x00\\x00\\x03\\xe8\\x08\\x06\\x00\\x…"
      ]
     },
     "metadata": {},
     "output_type": "display_data"
    },
    {
     "name": "stdout",
     "output_type": "stream",
     "text": [
      "Visit 19682\n"
     ]
    },
    {
     "data": {
      "application/vnd.jupyter.widget-view+json": {
       "model_id": "acef12a21f5b45fbb4f388a7279de317",
       "version_major": 2,
       "version_minor": 0
      },
      "text/plain": [
       "HBox(children=(Image(value=b'\\x89PNG\\r\\n\\x1a\\n\\x00\\x00\\x00\\rIHDR\\x00\\x00\\x03\\xe8\\x00\\x00\\x03\\xe8\\x08\\x06\\x00\\x…"
      ]
     },
     "metadata": {},
     "output_type": "display_data"
    },
    {
     "name": "stdout",
     "output_type": "stream",
     "text": [
      "Visit 19696\n"
     ]
    },
    {
     "data": {
      "application/vnd.jupyter.widget-view+json": {
       "model_id": "a2e520c0eda945fa809ae785b461393e",
       "version_major": 2,
       "version_minor": 0
      },
      "text/plain": [
       "HBox(children=(Image(value=b'\\x89PNG\\r\\n\\x1a\\n\\x00\\x00\\x00\\rIHDR\\x00\\x00\\x03\\xe8\\x00\\x00\\x03\\xe8\\x08\\x06\\x00\\x…"
      ]
     },
     "metadata": {},
     "output_type": "display_data"
    },
    {
     "name": "stdout",
     "output_type": "stream",
     "text": [
      "Visit 348\n"
     ]
    },
    {
     "data": {
      "application/vnd.jupyter.widget-view+json": {
       "model_id": "7deaba8c570a48ac873da39d33967a34",
       "version_major": 2,
       "version_minor": 0
      },
      "text/plain": [
       "HBox(children=(Image(value=b'\\x89PNG\\r\\n\\x1a\\n\\x00\\x00\\x00\\rIHDR\\x00\\x00\\x03\\xe8\\x00\\x00\\x03\\xe8\\x08\\x06\\x00\\x…"
      ]
     },
     "metadata": {},
     "output_type": "display_data"
    }
   ],
   "source": [
    "visResults = {}\n",
    "for visit, streakDetectors in visitDict.items():\n",
    "    print('Visit', visit)\n",
    "    with open(f'/home/c/csaunder/stack_projects/streakMasking/evalFigures/{visit}.png', \"rb\") as file:\n",
    "        image = file.read()\n",
    "    im = ipywidgets.Image(value=image, format='png')\n",
    "\n",
    "    displayObjects = []\n",
    "    visResults[visit] = {'found': {}}\n",
    "    for det, streaks in streakDetectors.items():\n",
    "        if len(streaks) == 0:\n",
    "            continue\n",
    "\n",
    "        # The below lines make a nice evaluation tool, but doesn't work well for many false positives:\n",
    "        \"\"\"visResults['streakFound'][visit][det] = interactive(isStreak, realStreak=False, ghost=False,\n",
    "                                                            quality=[('totally haywire', 0), ('too wide', 0.5), ('looks good', 1.0)])\n",
    "        displayObjects.append(ipywidgets.Label(f'Detector {det}'))\n",
    "        displayObjects.append(visResults['streakFound'][visit][det])\"\"\"\n",
    "        visResults[visit]['found'][det] = ipywidgets.Checkbox(value=False, description=f'Detector {det}', disabled=False)\n",
    "        displayObjects.append(visResults[visit]['found'][det])\n",
    "    visResults[visit]['missedStreaks'] = interactive(missing, missedStreaks='')\n",
    "    displayObjects.append(visResults[visit]['missedStreaks'])\n",
    "    v_box = ipywidgets.VBox(displayObjects)\n",
    "    accordion = ipywidgets.Accordion(children=[v_box])\n",
    "    accordion.set_title(0, 'Detectors with correctly found streaks')\n",
    "    \n",
    "    \"\"\"wid = ipywidgets.GridspecLayout(len(displayObjects) - 1, 4)\n",
    "    wid[:, :3] = displayObjects[0]\n",
    "    for i, obj in enumerate(displayObjects[1:]):\n",
    "        wid[i, 3] = obj\"\"\"\n",
    "    wid = ipywidgets.HBox([im, accordion])\n",
    "    display(wid)\n"
   ]
  },
  {
   "cell_type": "markdown",
   "id": "755943f6-f61f-496c-95d0-c057a7ff3b91",
   "metadata": {
    "execution": {
     "iopub.execute_input": "2024-02-15T22:27:27.955965Z",
     "iopub.status.busy": "2024-02-15T22:27:27.955739Z",
     "iopub.status.idle": "2024-02-15T22:27:27.958053Z",
     "shell.execute_reply": "2024-02-15T22:27:27.957705Z",
     "shell.execute_reply.started": "2024-02-15T22:27:27.955948Z"
    }
   },
   "source": [
    "## Save the results:"
   ]
  },
  {
   "cell_type": "code",
   "execution_count": 170,
   "id": "b563d333-938b-4901-8e3a-8126a4dbbaaa",
   "metadata": {
    "execution": {
     "iopub.execute_input": "2024-02-15T22:20:15.991612Z",
     "iopub.status.busy": "2024-02-15T22:20:15.991204Z",
     "iopub.status.idle": "2024-02-15T22:20:15.997236Z",
     "shell.execute_reply": "2024-02-15T22:20:15.996924Z",
     "shell.execute_reply.started": "2024-02-15T22:20:15.991595Z"
    }
   },
   "outputs": [
    {
     "name": "stdout",
     "output_type": "stream",
     "text": [
      "{362: {'correctlyFound': [71, 72, 80, 81, 87, 88, 95], 'missed': []}, 19680: {'correctlyFound': [62, 70, 71, 72, 79], 'missed': []}, 19694: {'correctlyFound': [17, 13, 7, 51, 0, 21, 6, 22, 20, 42, 31, 19, 16, 15, 41, 18, 100, 32, 101], 'missed': []}, 17906: {'correctlyFound': [54, 63, 64, 72], 'missed': []}}\n"
     ]
    }
   ],
   "source": [
    "scanResults = {}\n",
    "for visit, result in visResults.items():\n",
    "    scanResults[visit] = {'correctlyFound':[], 'missed': []}\n",
    "    foundStreaks = []\n",
    "    missed = result['missedStreaks']\n",
    "    #if len(val.result[0]) > 0:\n",
    "    #    foundStreaks = [int(d) for d in val.result[0].split(',')]\n",
    "    #if len(val.result[1]) > 0:\n",
    "    if len(missed.result) > 0:\n",
    "        scanResults[visit]['missed'] = [int(d) for d in val.result[1].split(',')]\n",
    "    correctlyFound = []\n",
    "    for det, box in result['found'].items():\n",
    "        if box.value:\n",
    "            scanResults[visit]['correctlyFound'].append(det)\n",
    "print(scanResults)\n",
    "with open('scanResults.pkl', 'wb') as f:\n",
    "    pickle.dump(scanResults, f)"
   ]
  },
  {
   "cell_type": "code",
   "execution_count": null,
   "id": "de1ecf99-7feb-481e-ab9f-2d136ac4b961",
   "metadata": {},
   "outputs": [],
   "source": []
  }
 ],
 "metadata": {
  "kernelspec": {
   "display_name": "LSST",
   "language": "python",
   "name": "lsst"
  },
  "language_info": {
   "codemirror_mode": {
    "name": "ipython",
    "version": 3
   },
   "file_extension": ".py",
   "mimetype": "text/x-python",
   "name": "python",
   "nbconvert_exporter": "python",
   "pygments_lexer": "ipython3",
   "version": "3.11.7"
  }
 },
 "nbformat": 4,
 "nbformat_minor": 5
}
