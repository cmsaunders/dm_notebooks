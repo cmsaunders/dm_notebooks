{
 "cells": [
  {
   "cell_type": "code",
   "execution_count": 417,
   "id": "940be672",
   "metadata": {},
   "outputs": [],
   "source": [
    "from lsst.ctrl.mpexec import SimplePipelineExecutor\n",
    "from lsst.pipe.base import Pipeline, TaskDef, Instrument\n",
    "from lsst.daf.butler import Butler, DatasetType, CollectionType\n",
    "import lsst.geom"
   ]
  },
  {
   "cell_type": "code",
   "execution_count": 143,
   "id": "96e96d76",
   "metadata": {},
   "outputs": [],
   "source": [
    "# Add this to get output on the pipeline executor on lsst-devl. Allegedly this will happen automatically on the RSP.\n",
    "import lsst.daf.butler.cli as cli\n",
    "cli.cliLog.CliLog.initLog(longlog=False)"
   ]
  },
  {
   "cell_type": "code",
   "execution_count": 18,
   "id": "f1fec4e2",
   "metadata": {},
   "outputs": [],
   "source": [
    "import matplotlib.pyplot as plt"
   ]
  },
  {
   "cell_type": "markdown",
   "id": "85b46059",
   "metadata": {},
   "source": [
    "## Use the regular butler to figure out what visits you want:"
   ]
  },
  {
   "cell_type": "code",
   "execution_count": 424,
   "id": "c934085d",
   "metadata": {},
   "outputs": [],
   "source": [
    "inputCollection = 'HSC/runs/RC2/w_2022_20/DM-34794'"
   ]
  },
  {
   "cell_type": "code",
   "execution_count": 217,
   "id": "77ca33f7",
   "metadata": {},
   "outputs": [],
   "source": [
    "butler = Butler('/repo/main', collections=inputCollection)"
   ]
  },
  {
   "cell_type": "code",
   "execution_count": 227,
   "id": "ff7c59b8",
   "metadata": {},
   "outputs": [],
   "source": [
    "my_tract = 9813\n",
    "my_patch = 42\n",
    "\n",
    "dataId = {'band': 'z', 'tract': my_tract, \n",
    "          'patch': my_patch, 'skymap': 'hsc_rings_v1'}\n",
    "deepCoadd = butler.get('deepCoadd', dataId=dataId)"
   ]
  },
  {
   "cell_type": "code",
   "execution_count": 228,
   "id": "236f9351",
   "metadata": {},
   "outputs": [],
   "source": [
    "coadd_inputs = butler.get(\"deepCoadd_calexp.coaddInputs\", dataId)"
   ]
  },
  {
   "cell_type": "code",
   "execution_count": 229,
   "id": "26ed8d21",
   "metadata": {},
   "outputs": [
    {
     "data": {
      "text/plain": [
       "array([ 1166,  1168,  1170,  1172,  1174,  1176,  1178,  1180,  1182,\n",
       "        1184,  1186,  1188,  1190,  1192,  1194, 17900, 17902, 17904,\n",
       "       17906, 17908, 17926, 17928, 17930, 17932, 17934, 17944, 17946,\n",
       "       17948, 17950, 17952, 17962])"
      ]
     },
     "execution_count": 229,
     "metadata": {},
     "output_type": "execute_result"
    }
   ],
   "source": [
    "# coadd_inputs.visits\n",
    "coadd_inputs.visits['id']"
   ]
  },
  {
   "cell_type": "markdown",
   "id": "ab22956d",
   "metadata": {},
   "source": [
    "### Look at the visit table to get the visit IDs:"
   ]
  },
  {
   "cell_type": "code",
   "execution_count": 222,
   "id": "2266b040",
   "metadata": {},
   "outputs": [
    {
     "data": {
      "text/plain": [
       "1"
      ]
     },
     "execution_count": 222,
     "metadata": {},
     "output_type": "execute_result"
    }
   ],
   "source": [
    "visitTableRef = list(butler.registry.queryDatasets('visitTable'))\n",
    "len(visitTableRef)"
   ]
  },
  {
   "cell_type": "code",
   "execution_count": 221,
   "id": "a5d7fdc0",
   "metadata": {},
   "outputs": [],
   "source": [
    "visitTable = butler.get(visitTableRef[0])"
   ]
  },
  {
   "cell_type": "code",
   "execution_count": 232,
   "id": "0cb0eb3a",
   "metadata": {},
   "outputs": [
    {
     "name": "stdout",
     "output_type": "stream",
     "text": [
      "90\n"
     ]
    }
   ],
   "source": [
    "zVisits = visitTable['band'] == 'z'\n",
    "print(zVisits.sum())"
   ]
  },
  {
   "cell_type": "code",
   "execution_count": 22,
   "id": "b0edfdcb",
   "metadata": {},
   "outputs": [
    {
     "data": {
      "image/png": "[encoded data removed]",
      "text/plain": [
       "<Figure size 432x288 with 1 Axes>"
      ]
     },
     "metadata": {
      "needs_background": "light"
     },
     "output_type": "display_data"
    }
   ],
   "source": [
    "plt.hist(visitTable['expMidptMJD'], bins=np.arange(56700, 57300, 20));\n",
    "plt.hist(visitTable['expMidptMJD'][zVisits], bins=np.arange(56700, 57300, 20));"
   ]
  },
  {
   "cell_type": "code",
   "execution_count": 241,
   "id": "dc065131",
   "metadata": {},
   "outputs": [
    {
     "data": {
      "text/plain": [
       "5"
      ]
     },
     "execution_count": 241,
     "metadata": {},
     "output_type": "execute_result"
    }
   ],
   "source": [
    "# Here I'm using the fact that the id column for both the coadd_inputs.visits table and visitTable is \n",
    "# the visit number\n",
    "deepCoadd_mjds = visitTable.loc[coadd_inputs.visits['id']]['expMidptMJD']\n",
    "coaddIndices = np.array(deepCoadd_mjds > 57000)\n",
    "\n",
    "visitsToCoadd = coadd_inputs.visits[coaddIndices]\n",
    "# Restricting to 5 visits for faster testing\n",
    "visitsToCoadd = visitsToCoadd[:5]\n",
    "len(visitsToCoadd)"
   ]
  },
  {
   "cell_type": "code",
   "execution_count": 242,
   "id": "74b24a89",
   "metadata": {},
   "outputs": [
    {
     "data": {
      "text/plain": [
       "<class 'lsst.afw.table.ExposureCatalog'>\n",
       "  id  bbox_min_x bbox_min_y bbox_max_x bbox_max_y goodpix        weight       filter\n",
       "         pix        pix        pix        pix                                       \n",
       "----- ---------- ---------- ---------- ---------- -------- ------------------ ------\n",
       "17900      23900      15900      28099      20099 15693357  44.38563110688174  HSC-Z\n",
       "17902      23900      15900      28099      20099 15695008  43.90997835111605  HSC-Z\n",
       "17904      23900      15900      28099      20099 15720549  43.39494358636662  HSC-Z\n",
       "17906      23900      15900      28099      20099 15689050  46.36483940679114  HSC-Z\n",
       "17908      23900      15900      28099      20099 15839124 47.209512857540034  HSC-Z"
      ]
     },
     "execution_count": 242,
     "metadata": {},
     "output_type": "execute_result"
    }
   ],
   "source": [
    "visitsToCoadd"
   ]
  },
  {
   "cell_type": "code",
   "execution_count": 243,
   "id": "0815472e",
   "metadata": {},
   "outputs": [
    {
     "name": "stdout",
     "output_type": "stream",
     "text": [
      "patch = 42 AND visit in (17900,17902,17904,17906,17908) AND skymap = 'hsc_rings_v1'\n"
     ]
    }
   ],
   "source": [
    "# We want to remake the coadd with the above ONLY for the patch of interest\n",
    "# (otherwise it will do all patches and take a long time)\n",
    "tupleString = \",\".join(visitsToCoadd['id'].astype(str))\n",
    "visitString = f\"visit in ({tupleString})\"\n",
    "queryString = f\"patch = {my_patch} AND {visitString} AND skymap = 'hsc_rings_v1'\"\n",
    "print(queryString)"
   ]
  },
  {
   "cell_type": "markdown",
   "id": "d6d44ea9",
   "metadata": {},
   "source": [
    "## Now set up the SimplePipelineExecutor for running a task from inside python\n",
    "### This requires its own butler"
   ]
  },
  {
   "cell_type": "code",
   "execution_count": 419,
   "id": "410a7ebe",
   "metadata": {},
   "outputs": [],
   "source": [
    "outputCollection = 'u/csaunder/DM-35109'"
   ]
  },
  {
   "cell_type": "code",
   "execution_count": null,
   "id": "8b0a7a71",
   "metadata": {},
   "outputs": [],
   "source": [
    "#simpleButler = SimplePipelineExecutor.prep_butler('/repo/main', inputs=['HSC/runs/RC2/w_2022_22/DM-34983'],\n",
    "#                                                  output=outRun)"
   ]
  },
  {
   "cell_type": "code",
   "execution_count": 462,
   "id": "2c7537c5",
   "metadata": {},
   "outputs": [],
   "source": [
    "# There is a small bug in the above method. Until that is fixed (ticket DM-35153), the following needs to be done:\n",
    "outputRun = f\"{outputCollection}/{Instrument.makeCollectionTimestamp()}\"\n",
    "tmpButler = Butler('/repo/main', writeable=True)\n",
    "tmpButler.registry.registerCollection(outputRun, CollectionType.RUN)\n",
    "tmpButler.registry.registerCollection(outputCollection, CollectionType.CHAINED)\n",
    "collections = [inputCollection]\n",
    "collections.insert(0, outputRun)\n",
    "tmpButler.registry.setCollectionChain(outputCollection, collections)\n",
    "simpleButler = Butler(butler=tmpButler, collections=[outputCollection], run=outputRun)"
   ]
  },
  {
   "cell_type": "code",
   "execution_count": 449,
   "id": "9daddb4b",
   "metadata": {},
   "outputs": [
    {
     "data": {
      "text/plain": [
       "CollectionSearch(('u/csaunder/DM-35109/20220608T194310Z', 'HSC/runs/RC2/w_2022_20/DM-34794'))"
      ]
     },
     "execution_count": 449,
     "metadata": {},
     "output_type": "execute_result"
    }
   ],
   "source": [
    "# We want to see that a subdirectory of our output collection is first in the list:\n",
    "simpleButler.registry.getCollectionChain(outputCollection)"
   ]
  },
  {
   "cell_type": "markdown",
   "id": "b3e30f11",
   "metadata": {},
   "source": [
    "### Method 1: Pick out the task we want from a larger pipeline\n",
    "I talked with Nate Lust, who said that this was by far the preferable method because you will get all of the configuration settings for your instrument. Using `Pipeline.from_uri(<path>#<yourTask>)` is also the preferred method for getting a particular task, because it is what most closely replicates the command line syntax. "
   ]
  },
  {
   "cell_type": "code",
   "execution_count": 458,
   "id": "7fa51b2f",
   "metadata": {},
   "outputs": [],
   "source": [
    "assembleCoaddPipeline = Pipeline.from_uri('${PIPE_TASKS_DIR}/pipelines/DRP.yaml#assembleCoadd')"
   ]
  },
  {
   "cell_type": "code",
   "execution_count": 317,
   "id": "f5592800",
   "metadata": {},
   "outputs": [],
   "source": [
    "# Less preferred method for getting a task from a larger pipeline\n",
    "\"\"\"\n",
    "# Make subset with the task(s) we want:\n",
    "pipeline = Pipeline.from_uri('${PIPE_TASKS_DIR}/pipelines/DRP.yaml')\n",
    "subset = lsst.pipe.base.LabelSpecifier(labels=set((\"assembleCoadd\",)))\n",
    "# Make new pipeline from this subset:\n",
    "assembleCoaddPipeline = pipeline.subsetFromLabels(subset)\n",
    "\"\"\""
   ]
  },
  {
   "cell_type": "code",
   "execution_count": 465,
   "id": "5bc3a36e",
   "metadata": {},
   "outputs": [
    {
     "data": {
      "text/plain": [
       "'\\ndeferred = butler.getDeferred(\\'deepCoadd\\', dataId=dataId)\\nnewDatasetType = DatasetType(\"myCoadd1\", dimensions=deferred.ref.dimensions,\\n                             storageClass=deferred.ref.datasetType.storageClass)\\nsimpleButler.registry.registerDatasetType(newDatasetType)\\nassembleCoaddPipeline.addConfigOverride(\"assembleCoadd\", \"connections.coaddExposure\", \"myCoadd1\")\\n'"
      ]
     },
     "execution_count": 465,
     "metadata": {},
     "output_type": "execute_result"
    }
   ],
   "source": [
    "# You can give your coadd a different name, but you will have to register a new dataset type:\n",
    "\"\"\"\n",
    "deferred = butler.getDeferred('deepCoadd', dataId=dataId)\n",
    "newDatasetType = DatasetType(\"myCoadd1\", dimensions=deferred.ref.dimensions,\n",
    "                             storageClass=deferred.ref.datasetType.storageClass)\n",
    "simpleButler.registry.registerDatasetType(newDatasetType)\n",
    "assembleCoaddPipeline.addConfigOverride(\"assembleCoadd\", \"connections.coaddExposure\", \"myCoadd1\")\n",
    "\"\"\"\n",
    "\n",
    "# To set some other config option, the format is `addConfigOverride(<taskName>, <configName>, <configValue>)`:\n",
    "#assembleCoaddPipeline.addConfigOverride(\"assembleCoadd\", \"doFilterMorphological\", False)"
   ]
  },
  {
   "cell_type": "code",
   "execution_count": 463,
   "id": "78e2f301",
   "metadata": {},
   "outputs": [],
   "source": [
    "spe = SimplePipelineExecutor.from_pipeline(assembleCoaddPipeline, where=queryString, butler=simpleButler)"
   ]
  },
  {
   "cell_type": "code",
   "execution_count": 464,
   "id": "54e57cf3",
   "metadata": {},
   "outputs": [
    {
     "name": "stderr",
     "output_type": "stream",
     "text": [
      "lsst.assembleCoadd INFO: Weight of deepCoadd_directWarp {instrument: 'HSC', skymap: 'hsc_rings_v1', tract: 9813, patch: 42, visit: 17908, ...} = 47.210\n",
      "lsst.assembleCoadd INFO: Weight of deepCoadd_directWarp {instrument: 'HSC', skymap: 'hsc_rings_v1', tract: 9813, patch: 42, visit: 17906, ...} = 46.365\n",
      "lsst.assembleCoadd INFO: Weight of deepCoadd_directWarp {instrument: 'HSC', skymap: 'hsc_rings_v1', tract: 9813, patch: 42, visit: 17904, ...} = 43.395\n",
      "lsst.assembleCoadd INFO: Weight of deepCoadd_directWarp {instrument: 'HSC', skymap: 'hsc_rings_v1', tract: 9813, patch: 42, visit: 17902, ...} = 43.910\n",
      "lsst.assembleCoadd INFO: Weight of deepCoadd_directWarp {instrument: 'HSC', skymap: 'hsc_rings_v1', tract: 9813, patch: 42, visit: 17900, ...} = 44.386\n",
      "lsst.assembleCoadd INFO: Found 5 deepCoadd_directWarp\n",
      "lsst.assembleCoadd.assembleStaticSkyModel INFO: Weight of deepCoadd_psfMatchedWarp {instrument: 'HSC', skymap: 'hsc_rings_v1', tract: 9813, patch: 42, visit: 17908, ...} = 5177.811\n",
      "lsst.assembleCoadd.assembleStaticSkyModel INFO: Weight of deepCoadd_psfMatchedWarp {instrument: 'HSC', skymap: 'hsc_rings_v1', tract: 9813, patch: 42, visit: 17906, ...} = 5072.568\n",
      "lsst.assembleCoadd.assembleStaticSkyModel INFO: Weight of deepCoadd_psfMatchedWarp {instrument: 'HSC', skymap: 'hsc_rings_v1', tract: 9813, patch: 42, visit: 17904, ...} = 4717.511\n",
      "lsst.assembleCoadd.assembleStaticSkyModel INFO: Weight of deepCoadd_psfMatchedWarp {instrument: 'HSC', skymap: 'hsc_rings_v1', tract: 9813, patch: 42, visit: 17902, ...} = 4776.520\n",
      "lsst.assembleCoadd.assembleStaticSkyModel INFO: Weight of deepCoadd_psfMatchedWarp {instrument: 'HSC', skymap: 'hsc_rings_v1', tract: 9813, patch: 42, visit: 17900, ...} = 4665.173\n",
      "lsst.assembleCoadd.assembleStaticSkyModel INFO: Found 5 deepCoadd_psfMatchedWarp\n",
      "lsst.assembleCoadd.assembleStaticSkyModel INFO: Assembling 5 deepCoadd_psfMatchedWarp\n",
      "lsst.assembleCoadd.assembleStaticSkyModel.interpImage INFO: Creating psf model for interpolation from fwhm(pixels) = 3.0 [default]\n",
      "lsst.assembleCoadd.assembleStaticSkyModel.interpImage INFO: fallbackValueType MEDIAN has been set to 0.0055\n",
      "lsst.assembleCoadd.assembleStaticSkyModel.interpImage INFO: Interpolated over 0 NO_DATA pixels.\n",
      "lsst.assembleCoadd.detectTemplate INFO: Detected 5145 positive peaks in 2777 footprints to 5 sigma\n",
      "lsst.assembleCoadd.scaleWarpVariance INFO: Renormalizing variance by 1.322906\n",
      "lsst.assembleCoadd.detect INFO: Detected 464 positive peaks in 358 footprints and 362 negative peaks in 254 footprints to 5 sigma\n",
      "lsst.assembleCoadd.scaleWarpVariance INFO: Renormalizing variance by 1.325363\n",
      "lsst.assembleCoadd.detect INFO: Detected 534 positive peaks in 337 footprints and 299 negative peaks in 230 footprints to 5 sigma\n",
      "lsst.assembleCoadd.scaleWarpVariance INFO: Renormalizing variance by 1.313826\n",
      "lsst.assembleCoadd.detect INFO: Detected 1250 positive peaks in 332 footprints and 156 negative peaks in 134 footprints to 5 sigma\n",
      "lsst.assembleCoadd.scaleWarpVariance INFO: Renormalizing variance by 1.310181\n",
      "lsst.assembleCoadd.detect INFO: Detected 373 positive peaks in 263 footprints and 183 negative peaks in 140 footprints to 5 sigma\n",
      "lsst.assembleCoadd.scaleWarpVariance INFO: Renormalizing variance by 1.336428\n",
      "lsst.assembleCoadd.detect INFO: Detected 626 positive peaks in 388 footprints and 514 negative peaks in 496 footprints to 5 sigma\n",
      "lsst.assembleCoadd INFO: Assembling 5 deepCoadd_directWarp\n",
      "lsst.assembleCoadd.interpImage INFO: Creating psf model for interpolation from fwhm(pixels) = 3.0 [default]\n",
      "lsst.assembleCoadd.interpImage INFO: fallbackValueType MEDIAN has been set to 0.0116\n",
      "lsst.assembleCoadd.interpImage INFO: Interpolated over 876 NO_DATA pixels.\n",
      "lsst.ctrl.mpexec.singleQuantumExecutor INFO: Execution of task 'assembleCoadd' on quantum {band: 'z', skymap: 'hsc_rings_v1', tract: 9813, patch: 42} took 146.709 seconds\n"
     ]
    },
    {
     "name": "stdout",
     "output_type": "stream",
     "text": [
      "CPU times: user 2min 14s, sys: 8.96 s, total: 2min 23s\n",
      "Wall time: 2min 26s\n"
     ]
    }
   ],
   "source": [
    "%%time\n",
    "# Actually run the pipeline\n",
    "# For me, this took about 2 minutes with 5 visits, 7 minutes with 16 visits\n",
    "quanta = spe.run()"
   ]
  },
  {
   "cell_type": "code",
   "execution_count": 452,
   "id": "3a6971ce",
   "metadata": {},
   "outputs": [
    {
     "data": {
      "text/plain": [
       "NamedKeyDict({DatasetType('deepCoadd_inputMap', {band, skymap, tract, patch}, HealSparseMap): [DatasetRef(DatasetType('deepCoadd_inputMap', {band, skymap, tract, patch}, HealSparseMap), {band: 'z', skymap: 'hsc_rings_v1', tract: 9813, patch: 42})], DatasetType('assembleCoadd_metadata', {band, skymap, tract, patch}, PropertySet): [DatasetRef(DatasetType('assembleCoadd_metadata', {band, skymap, tract, patch}, PropertySet), {band: 'z', skymap: 'hsc_rings_v1', tract: 9813, patch: 42})], DatasetType('deepCoadd', {band, skymap, tract, patch}, ExposureF): [DatasetRef(DatasetType('deepCoadd', {band, skymap, tract, patch}, ExposureF), {band: 'z', skymap: 'hsc_rings_v1', tract: 9813, patch: 42})], DatasetType('assembleCoadd_log', {band, skymap, tract, patch}, ButlerLogRecords): [DatasetRef(DatasetType('assembleCoadd_log', {band, skymap, tract, patch}, ButlerLogRecords), {band: 'z', skymap: 'hsc_rings_v1', tract: 9813, patch: 42})]})"
      ]
     },
     "execution_count": 452,
     "metadata": {},
     "output_type": "execute_result"
    }
   ],
   "source": [
    "# Look at the outputs:\n",
    "# Quanta should only have one element because we only ran one patch.\n",
    "quanta[0].outputs"
   ]
  },
  {
   "cell_type": "code",
   "execution_count": 457,
   "id": "e6c80efa",
   "metadata": {},
   "outputs": [
    {
     "name": "stdout",
     "output_type": "stream",
     "text": [
      "[DatasetRef(DatasetType('deepCoadd', {band, skymap, tract, patch}, ExposureF), {band: 'z', skymap: 'hsc_rings_v1', tract: 9813, patch: 42})]\n"
     ]
    },
    {
     "data": {
      "text/plain": [
       "ResourcePath(\"file:///repo/main/u/csaunder/DM-35109/20220608T194310Z/deepCoadd/9813/42/z/deepCoadd_9813_42_z_hsc_rings_v1_u_csaunder_DM-35109_20220608T194310Z.fits\")"
      ]
     },
     "execution_count": 457,
     "metadata": {},
     "output_type": "execute_result"
    }
   ],
   "source": [
    "print(quanta[0].outputs['deepCoadd'])\n",
    "newCoadd = simpleButler.get(quanta[0].outputs['deepCoadd'][0])\n",
    "# Check that the coadd we are getting is the one we made in our output directory:\n",
    "simpleButler.getURI(quanta[0].outputs['deepCoadd'][0])"
   ]
  },
  {
   "cell_type": "code",
   "execution_count": 456,
   "id": "73d19bfb",
   "metadata": {},
   "outputs": [
    {
     "data": {
      "text/plain": [
       "<class 'lsst.afw.table.ExposureCatalog'>\n",
       "  id  bbox_min_x bbox_min_y bbox_max_x bbox_max_y goodpix        weight       filter\n",
       "         pix        pix        pix        pix                                       \n",
       "----- ---------- ---------- ---------- ---------- -------- ------------------ ------\n",
       "17900      23900      15900      28099      20099 15693357  44.38563110688174  HSC-Z\n",
       "17902      23900      15900      28099      20099 15695008  43.90997835111605  HSC-Z\n",
       "17904      23900      15900      28099      20099 15720549  43.39494358636662  HSC-Z\n",
       "17906      23900      15900      28099      20099 15689050  46.36483940679114  HSC-Z\n",
       "17908      23900      15900      28099      20099 15839124 47.209512857540034  HSC-Z"
      ]
     },
     "execution_count": 456,
     "metadata": {},
     "output_type": "execute_result"
    }
   ],
   "source": [
    "# Check that the inputs to the new coadd are what we expect\n",
    "newInputs = newCoadd.info.getCoaddInputs()\n",
    "newInputs.visits"
   ]
  },
  {
   "cell_type": "markdown",
   "id": "b1d32b42",
   "metadata": {},
   "source": [
    "### Method 2: Build the executor from one task\n",
    "This is not preferred unless you are sure that you don't need any instrument-specific configurations."
   ]
  },
  {
   "cell_type": "code",
   "execution_count": 103,
   "id": "4bf210a3",
   "metadata": {},
   "outputs": [],
   "source": [
    "from lsst.pipe.tasks import assembleCoadd"
   ]
  },
  {
   "cell_type": "code",
   "execution_count": 254,
   "id": "ba37087f",
   "metadata": {},
   "outputs": [],
   "source": [
    "config = assembleCoadd.CompareWarpAssembleCoaddTask.ConfigClass()\n",
    "#config.connections.coaddExposure = \"myCoadd2\"\n",
    "tasks = [TaskDef(label=\"assembleCoadd\", taskClass=assembleCoadd.CompareWarpAssembleCoaddTask, config=config)]"
   ]
  },
  {
   "cell_type": "code",
   "execution_count": 344,
   "id": "3a0138e4",
   "metadata": {},
   "outputs": [],
   "source": [
    "spe2 = SimplePipelineExecutor.from_pipeline(tasks, where=queryString, butler=simpleButler)"
   ]
  },
  {
   "cell_type": "code",
   "execution_count": 345,
   "id": "dfdc1550",
   "metadata": {},
   "outputs": [
    {
     "name": "stderr",
     "output_type": "stream",
     "text": [
      "lsst.assembleCoadd INFO: Weight of deepCoadd_directWarp {instrument: 'HSC', skymap: 'hsc_rings_v1', tract: 9813, patch: 42, visit: 17900, ...} = 43.790\n",
      "lsst.assembleCoadd INFO: Weight of deepCoadd_directWarp {instrument: 'HSC', skymap: 'hsc_rings_v1', tract: 9813, patch: 42, visit: 17902, ...} = 43.167\n",
      "lsst.assembleCoadd INFO: Weight of deepCoadd_directWarp {instrument: 'HSC', skymap: 'hsc_rings_v1', tract: 9813, patch: 42, visit: 17904, ...} = 42.754\n",
      "lsst.assembleCoadd INFO: Weight of deepCoadd_directWarp {instrument: 'HSC', skymap: 'hsc_rings_v1', tract: 9813, patch: 42, visit: 17906, ...} = 45.550\n",
      "lsst.assembleCoadd INFO: Weight of deepCoadd_directWarp {instrument: 'HSC', skymap: 'hsc_rings_v1', tract: 9813, patch: 42, visit: 17908, ...} = 46.294\n",
      "lsst.assembleCoadd INFO: Found 5 deepCoadd_directWarp\n",
      "lsst.assembleCoadd.assembleStaticSkyModel INFO: Weight of deepCoadd_psfMatchedWarp {instrument: 'HSC', skymap: 'hsc_rings_v1', tract: 9813, patch: 42, visit: 17900, ...} = 4749.054\n",
      "lsst.assembleCoadd.assembleStaticSkyModel INFO: Weight of deepCoadd_psfMatchedWarp {instrument: 'HSC', skymap: 'hsc_rings_v1', tract: 9813, patch: 42, visit: 17902, ...} = 4780.470\n",
      "lsst.assembleCoadd.assembleStaticSkyModel INFO: Weight of deepCoadd_psfMatchedWarp {instrument: 'HSC', skymap: 'hsc_rings_v1', tract: 9813, patch: 42, visit: 17904, ...} = 4741.718\n",
      "lsst.assembleCoadd.assembleStaticSkyModel INFO: Weight of deepCoadd_psfMatchedWarp {instrument: 'HSC', skymap: 'hsc_rings_v1', tract: 9813, patch: 42, visit: 17906, ...} = 5146.298\n",
      "lsst.assembleCoadd.assembleStaticSkyModel INFO: Weight of deepCoadd_psfMatchedWarp {instrument: 'HSC', skymap: 'hsc_rings_v1', tract: 9813, patch: 42, visit: 17908, ...} = 5215.351\n",
      "lsst.assembleCoadd.assembleStaticSkyModel INFO: Found 5 deepCoadd_psfMatchedWarp\n",
      "lsst.assembleCoadd.assembleStaticSkyModel INFO: Assembling 5 deepCoadd_psfMatchedWarp\n",
      "lsst.assembleCoadd.assembleStaticSkyModel.interpImage INFO: Creating psf model for interpolation from fwhm(pixels) = 3.0 [default]\n",
      "lsst.assembleCoadd.assembleStaticSkyModel.interpImage INFO: fallbackValueType MEDIAN has been set to 0.0055\n",
      "lsst.assembleCoadd.assembleStaticSkyModel.interpImage INFO: Interpolated over 1 NO_DATA pixels.\n",
      "lsst.assembleCoadd.detectTemplate INFO: Detected 5123 positive peaks in 2767 footprints to 5 sigma\n",
      "lsst.assembleCoadd.scaleWarpVariance INFO: Renormalizing variance by 1.334444\n",
      "lsst.assembleCoadd.detect INFO: Detected 637 positive peaks in 395 footprints and 578 negative peaks in 556 footprints to 5 sigma\n",
      "lsst.assembleCoadd.scaleWarpVariance INFO: Renormalizing variance by 1.308395\n",
      "lsst.assembleCoadd.detect INFO: Detected 366 positive peaks in 261 footprints and 183 negative peaks in 140 footprints to 5 sigma\n",
      "lsst.assembleCoadd.scaleWarpVariance INFO: Renormalizing variance by 1.312455\n",
      "lsst.assembleCoadd.detect INFO: Detected 1225 positive peaks in 335 footprints and 156 negative peaks in 133 footprints to 5 sigma\n",
      "lsst.assembleCoadd.scaleWarpVariance INFO: Renormalizing variance by 1.323157\n",
      "lsst.assembleCoadd.detect INFO: Detected 536 positive peaks in 337 footprints and 296 negative peaks in 236 footprints to 5 sigma\n",
      "lsst.assembleCoadd.scaleWarpVariance INFO: Renormalizing variance by 1.320823\n",
      "lsst.assembleCoadd.detect INFO: Detected 478 positive peaks in 380 footprints and 357 negative peaks in 259 footprints to 5 sigma\n",
      "lsst.assembleCoadd INFO: Assembling 5 deepCoadd_directWarp\n",
      "lsst.assembleCoadd.interpImage INFO: Creating psf model for interpolation from fwhm(pixels) = 3.0 [default]\n",
      "lsst.assembleCoadd.interpImage INFO: fallbackValueType MEDIAN has been set to 0.0117\n",
      "lsst.assembleCoadd.interpImage INFO: Interpolated over 877 NO_DATA pixels.\n",
      "lsst.ctrl.mpexec.singleQuantumExecutor INFO: Execution of task 'assembleCoadd' on quantum {band: 'z', skymap: 'hsc_rings_v1', tract: 9813, patch: 42} took 130.336 seconds\n"
     ]
    },
    {
     "name": "stdout",
     "output_type": "stream",
     "text": [
      "CPU times: user 2min, sys: 10.2 s, total: 2min 10s\n",
      "Wall time: 2min 10s\n"
     ]
    }
   ],
   "source": [
    "%%time\n",
    "quanta2 = spe2.run()"
   ]
  },
  {
   "cell_type": "markdown",
   "id": "f64d37b8",
   "metadata": {},
   "source": [
    "## To rerun the `SimplePipelineExecutor`, you need to either rerun the cell that built `simpleButler` or run the below command: "
   ]
  },
  {
   "cell_type": "code",
   "execution_count": null,
   "id": "3201254b",
   "metadata": {},
   "outputs": [],
   "source": [
    "simpleButler.registry.removeCollection(outRun)"
   ]
  }
 ],
 "metadata": {
  "kernelspec": {
   "display_name": "Python 3 (ipykernel)",
   "language": "python",
   "name": "python3"
  },
  "language_info": {
   "codemirror_mode": {
    "name": "ipython",
    "version": 3
   },
   "file_extension": ".py",
   "mimetype": "text/x-python",
   "name": "python",
   "nbconvert_exporter": "python",
   "pygments_lexer": "ipython3",
   "version": "3.10.4"
  }
 },
 "nbformat": 4,
 "nbformat_minor": 5
}
